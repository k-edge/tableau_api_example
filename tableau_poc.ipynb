{
 "cells": [
  {
   "cell_type": "code",
   "execution_count": 1,
   "metadata": {},
   "outputs": [],
   "source": [
    "import tableauserverclient as TSC\n",
    "from dotenv import load_dotenv\n",
    "import os\n",
    "import pandas as pd"
   ]
  },
  {
   "cell_type": "code",
   "execution_count": 2,
   "metadata": {},
   "outputs": [],
   "source": [
    "e = load_dotenv(\".tableau_env\")"
   ]
  },
  {
   "cell_type": "code",
   "execution_count": 3,
   "metadata": {},
   "outputs": [],
   "source": [
    "TABLEAU_USERNAME = os.environ.get(\"TABLEAU_USERNAME\")\n",
    "TABLEAU_PASSWORD = os.environ.get(\"TABLEAU_PASSWORD\")\n",
    "TABLEAU_SITENAME = os.environ.get(\"TABLEAU_SITENAME\")\n",
    "TABLEAU_SERVER_URL = os.environ.get(\"TABLEAU_SERVER_URL\")\n",
    "# for auth via token\n",
    "TABLEAU_TOKEN_NAME = os.environ.get(\"TABLEAU_TOKEN_NAME\")\n",
    "TABLEAU_TOKEN_VALUE = os.environ.get(\"TABLEAU_TOKEN_VALUE\")"
   ]
  },
  {
   "cell_type": "code",
   "execution_count": 4,
   "metadata": {},
   "outputs": [
    {
     "data": {
      "text/plain": [
       "<tableauserverclient.server.endpoint.auth_endpoint.Auth.contextmgr at 0x23985a92220>"
      ]
     },
     "execution_count": 4,
     "metadata": {},
     "output_type": "execute_result"
    }
   ],
   "source": [
    "# connect to tableau server\n",
    "tableau_auth = TSC.PersonalAccessTokenAuth(TABLEAU_TOKEN_NAME, TABLEAU_TOKEN_VALUE, TABLEAU_SITENAME)\n",
    "server = TSC.Server(f\"https://{TABLEAU_SERVER_URL}\", use_server_version=True)\n",
    "server.auth.sign_in(tableau_auth)"
   ]
  },
  {
   "cell_type": "markdown",
   "metadata": {},
   "source": [
    "#### Data Sources - not used for now"
   ]
  },
  {
   "cell_type": "code",
   "execution_count": 5,
   "metadata": {},
   "outputs": [],
   "source": [
    "# get all datasources and their ID => ideally this is an ingestion job\n",
    "# and the data sources are gonna be saved in a table\n",
    "all_datasources, pagination_item = server.datasources.get()\n",
    "\n",
    "# to make it easy, just save the data sources as dict, alongside their ID\n",
    "datasources_dict = {i.name: i.id for i in all_datasources}"
   ]
  },
  {
   "cell_type": "code",
   "execution_count": 6,
   "metadata": {},
   "outputs": [],
   "source": [
    "# get the data source to refresh by ID\n",
    "datasource = server.datasources.get_by_id(datasources_dict[\"Alarm RLS\"])\n",
    "\n",
    "# call the refresh method with the data source item\n",
    "refreshed_datasource = server.datasources.refresh(datasource)"
   ]
  },
  {
   "cell_type": "markdown",
   "metadata": {},
   "source": [
    "#### Workbooks"
   ]
  },
  {
   "cell_type": "code",
   "execution_count": 7,
   "metadata": {},
   "outputs": [],
   "source": [
    "# get all workbooks and their ID => ideally this is an ingestion job\n",
    "# and the workbooks are gonna be saved in a table\n",
    "# we also need projects\n",
    "all_workbooks_items, pagination_item = server.workbooks.get()\n",
    "all_project_items, pagination_item = server.projects.get()\n",
    "\n",
    "# unpack payload in dict\n",
    "#workbooks_dict = {i.name: i.id for i in all_workbooks_items}\n"
   ]
  },
  {
   "cell_type": "code",
   "execution_count": 8,
   "metadata": {},
   "outputs": [],
   "source": [
    "# these two dataframes are gonna be tables in snowflake\n",
    "df_projects = pd.DataFrame([(i.id, i.parent_id, i.name) for i in all_project_items], columns=[\"project_id\", \"parent_project_id\", \"project_name\"])\n",
    "\n",
    "df_workbooks = pd.DataFrame(\n",
    "    [(i.content_url, i.created_at, i.id, i.name, i.owner_id, i.project_id, i.project_name, i.size, i.show_tabs, i.hidden_views, i.tags, i.updated_at, i.webpage_url) for i in all_workbooks_items],\n",
    "    columns=[\"content_url\", \"created_at\", \"id\", \"name\", \"owner_id\", \"project_id\", \"project_name\", \"size\", \"show_tabs\", \"hidden_views\", \"tags\", \"updated_at\", \"webpage_url\"]\n",
    ")"
   ]
  },
  {
   "cell_type": "code",
   "execution_count": 13,
   "metadata": {},
   "outputs": [
    {
     "data": {
      "text/html": [
       "<div>\n",
       "<style scoped>\n",
       "    .dataframe tbody tr th:only-of-type {\n",
       "        vertical-align: middle;\n",
       "    }\n",
       "\n",
       "    .dataframe tbody tr th {\n",
       "        vertical-align: top;\n",
       "    }\n",
       "\n",
       "    .dataframe thead th {\n",
       "        text-align: right;\n",
       "    }\n",
       "</style>\n",
       "<table border=\"1\" class=\"dataframe\">\n",
       "  <thead>\n",
       "    <tr style=\"text-align: right;\">\n",
       "      <th></th>\n",
       "      <th>content_url</th>\n",
       "      <th>created_at</th>\n",
       "      <th>id</th>\n",
       "      <th>name</th>\n",
       "      <th>owner_id</th>\n",
       "      <th>project_id</th>\n",
       "      <th>project_name</th>\n",
       "      <th>size</th>\n",
       "      <th>show_tabs</th>\n",
       "      <th>hidden_views</th>\n",
       "      <th>tags</th>\n",
       "      <th>updated_at</th>\n",
       "      <th>webpage_url</th>\n",
       "    </tr>\n",
       "  </thead>\n",
       "  <tbody>\n",
       "    <tr>\n",
       "      <th>0</th>\n",
       "      <td>Regional</td>\n",
       "      <td>2022-10-21 07:12:04+00:00</td>\n",
       "      <td>116426e6-11b4-4438-babd-1110d3df3554</td>\n",
       "      <td>Regional</td>\n",
       "      <td>af745434-6e79-4655-bb53-af3a3e427582</td>\n",
       "      <td>fbf35beb-743d-4f44-b508-e461f6906d73</td>\n",
       "      <td>Samples</td>\n",
       "      <td>2</td>\n",
       "      <td>True</td>\n",
       "      <td>None</td>\n",
       "      <td>{}</td>\n",
       "      <td>2022-10-21 07:12:04+00:00</td>\n",
       "      <td>https://dub01.online.tableau.com/#/site/factor...</td>\n",
       "    </tr>\n",
       "    <tr>\n",
       "      <th>1</th>\n",
       "      <td>Superstore</td>\n",
       "      <td>2022-10-21 07:12:09+00:00</td>\n",
       "      <td>54135fc8-60ea-490d-aacf-52c0275c95d8</td>\n",
       "      <td>Superstore</td>\n",
       "      <td>af745434-6e79-4655-bb53-af3a3e427582</td>\n",
       "      <td>fbf35beb-743d-4f44-b508-e461f6906d73</td>\n",
       "      <td>Samples</td>\n",
       "      <td>1</td>\n",
       "      <td>True</td>\n",
       "      <td>None</td>\n",
       "      <td>{}</td>\n",
       "      <td>2022-10-21 07:12:09+00:00</td>\n",
       "      <td>https://dub01.online.tableau.com/#/site/factor...</td>\n",
       "    </tr>\n",
       "    <tr>\n",
       "      <th>2</th>\n",
       "      <td>AdminInsightsStarter</td>\n",
       "      <td>2022-10-23 07:33:13+00:00</td>\n",
       "      <td>aa0bd6e8-6964-4da6-b684-4e85179b8af7</td>\n",
       "      <td>Admin Insights Starter</td>\n",
       "      <td>e2bc92c6-2f4e-40db-9755-8ac94c2bc4f0</td>\n",
       "      <td>baee820c-602a-496c-9753-8fb61007851a</td>\n",
       "      <td>Admin Insights</td>\n",
       "      <td>2</td>\n",
       "      <td>True</td>\n",
       "      <td>None</td>\n",
       "      <td>{}</td>\n",
       "      <td>2023-01-15 08:02:39+00:00</td>\n",
       "      <td>https://dub01.online.tableau.com/#/site/factor...</td>\n",
       "    </tr>\n",
       "    <tr>\n",
       "      <th>3</th>\n",
       "      <td>Snowflakemonitoring</td>\n",
       "      <td>2022-11-01 13:13:04+00:00</td>\n",
       "      <td>5225bbd6-ffdd-49ba-a905-47ac53903c38</td>\n",
       "      <td>Snowflake monitoring</td>\n",
       "      <td>263efb4c-f589-4e11-9020-c11cf5a7b871</td>\n",
       "      <td>fa55702c-b95c-4568-8a40-afe280323bd1</td>\n",
       "      <td>Insight</td>\n",
       "      <td>1</td>\n",
       "      <td>False</td>\n",
       "      <td>None</td>\n",
       "      <td>{}</td>\n",
       "      <td>2023-12-10 09:31:24+00:00</td>\n",
       "      <td>https://dub01.online.tableau.com/#/site/factor...</td>\n",
       "    </tr>\n",
       "    <tr>\n",
       "      <th>4</th>\n",
       "      <td>DowntimeAnalysis</td>\n",
       "      <td>2022-11-15 14:19:31+00:00</td>\n",
       "      <td>1a89cd94-864f-43a5-9448-d5b17ddf290d</td>\n",
       "      <td>Downtime Analysis</td>\n",
       "      <td>c1676c99-b99d-49cd-bc16-ab73fad840f0</td>\n",
       "      <td>fa55702c-b95c-4568-8a40-afe280323bd1</td>\n",
       "      <td>Insight</td>\n",
       "      <td>2</td>\n",
       "      <td>False</td>\n",
       "      <td>None</td>\n",
       "      <td>{}</td>\n",
       "      <td>2023-02-28 07:34:47+00:00</td>\n",
       "      <td>https://dub01.online.tableau.com/#/site/factor...</td>\n",
       "    </tr>\n",
       "  </tbody>\n",
       "</table>\n",
       "</div>"
      ],
      "text/plain": [
       "            content_url                created_at  \\\n",
       "0              Regional 2022-10-21 07:12:04+00:00   \n",
       "1            Superstore 2022-10-21 07:12:09+00:00   \n",
       "2  AdminInsightsStarter 2022-10-23 07:33:13+00:00   \n",
       "3   Snowflakemonitoring 2022-11-01 13:13:04+00:00   \n",
       "4      DowntimeAnalysis 2022-11-15 14:19:31+00:00   \n",
       "\n",
       "                                     id                    name  \\\n",
       "0  116426e6-11b4-4438-babd-1110d3df3554                Regional   \n",
       "1  54135fc8-60ea-490d-aacf-52c0275c95d8              Superstore   \n",
       "2  aa0bd6e8-6964-4da6-b684-4e85179b8af7  Admin Insights Starter   \n",
       "3  5225bbd6-ffdd-49ba-a905-47ac53903c38    Snowflake monitoring   \n",
       "4  1a89cd94-864f-43a5-9448-d5b17ddf290d       Downtime Analysis   \n",
       "\n",
       "                               owner_id                            project_id  \\\n",
       "0  af745434-6e79-4655-bb53-af3a3e427582  fbf35beb-743d-4f44-b508-e461f6906d73   \n",
       "1  af745434-6e79-4655-bb53-af3a3e427582  fbf35beb-743d-4f44-b508-e461f6906d73   \n",
       "2  e2bc92c6-2f4e-40db-9755-8ac94c2bc4f0  baee820c-602a-496c-9753-8fb61007851a   \n",
       "3  263efb4c-f589-4e11-9020-c11cf5a7b871  fa55702c-b95c-4568-8a40-afe280323bd1   \n",
       "4  c1676c99-b99d-49cd-bc16-ab73fad840f0  fa55702c-b95c-4568-8a40-afe280323bd1   \n",
       "\n",
       "     project_name  size  show_tabs hidden_views tags  \\\n",
       "0         Samples     2       True         None   {}   \n",
       "1         Samples     1       True         None   {}   \n",
       "2  Admin Insights     2       True         None   {}   \n",
       "3         Insight     1      False         None   {}   \n",
       "4         Insight     2      False         None   {}   \n",
       "\n",
       "                 updated_at                                        webpage_url  \n",
       "0 2022-10-21 07:12:04+00:00  https://dub01.online.tableau.com/#/site/factor...  \n",
       "1 2022-10-21 07:12:09+00:00  https://dub01.online.tableau.com/#/site/factor...  \n",
       "2 2023-01-15 08:02:39+00:00  https://dub01.online.tableau.com/#/site/factor...  \n",
       "3 2023-12-10 09:31:24+00:00  https://dub01.online.tableau.com/#/site/factor...  \n",
       "4 2023-02-28 07:34:47+00:00  https://dub01.online.tableau.com/#/site/factor...  "
      ]
     },
     "execution_count": 13,
     "metadata": {},
     "output_type": "execute_result"
    }
   ],
   "source": [
    "df_workbooks.head()"
   ]
  },
  {
   "cell_type": "markdown",
   "metadata": {},
   "source": [
    "##### This uses only Tableau metadata for triggering refreshes by specifying one or more projects of interest (can be done through a seed file)"
   ]
  },
  {
   "cell_type": "code",
   "execution_count": 9,
   "metadata": {},
   "outputs": [],
   "source": [
    "# here we apply some filters to get to the ID of the projects to refresh (basically Operation => Certified folder)\n",
    "# this assumes a fixed structured; if this changes then we are not so flexible\n",
    "proj_to_target = df_projects[df_projects[\"project_name\"] == 'Operation'].project_id.values[0]\n",
    "sub_proj_to_target = df_projects[(df_projects[\"parent_project_id\"] == proj_to_target) & (df_projects[\"project_name\"] == \"3. Certified\")].project_id.values[0]\n",
    "project_to_refresh = df_projects[df_projects[\"parent_project_id\"] == sub_proj_to_target].project_id.values"
   ]
  },
  {
   "cell_type": "code",
   "execution_count": 10,
   "metadata": {},
   "outputs": [
    {
     "data": {
      "text/plain": [
       "array(['8c88e8fe-bce7-4258-88c3-3848ea6e6250',\n",
       "       '8c1d88a2-c6b8-4c07-a1d0-fe80dd01f6d2'], dtype=object)"
      ]
     },
     "execution_count": 10,
     "metadata": {},
     "output_type": "execute_result"
    }
   ],
   "source": [
    "project_to_refresh"
   ]
  },
  {
   "cell_type": "code",
   "execution_count": 11,
   "metadata": {},
   "outputs": [],
   "source": [
    "# here we get the workbook to refresh\n",
    "workbooks_to_refresh = df_workbooks[df_workbooks[\"project_id\"].isin(project_to_refresh)].id.values"
   ]
  },
  {
   "cell_type": "code",
   "execution_count": 12,
   "metadata": {},
   "outputs": [
    {
     "data": {
      "text/plain": [
       "array(['d7109010-4922-4074-a993-1e21d00289e4',\n",
       "       'a45b43c4-dd52-4cb2-95b9-69adcb142805',\n",
       "       '13c98795-fe43-4660-8b8c-baa51e40def4',\n",
       "       '66ec9509-a441-401c-80f3-043598a0b327',\n",
       "       'dbc2c8e9-0e92-4eb2-8caf-bfcede45c858',\n",
       "       '275126a2-f05e-4f1d-b38d-a06fead2f421'], dtype=object)"
      ]
     },
     "execution_count": 12,
     "metadata": {},
     "output_type": "execute_result"
    }
   ],
   "source": [
    "workbooks_to_refresh"
   ]
  },
  {
   "cell_type": "code",
   "execution_count": 99,
   "metadata": {},
   "outputs": [],
   "source": [
    "# loops through workbooks to refresh and trigger refresh\n",
    "# run only if you want to refresh the specific dashboard\n",
    "for w in workbooks_to_refresh:\n",
    "    workbook = server.workbooks.get_by_id(w)\n",
    "    # call the refresh method with the data source item\n",
    "    refreshed_workbook = server.workbooks.refresh(workbook)\n",
    "    print(f\"refresh for workbook id {w} triggered\")"
   ]
  },
  {
   "cell_type": "markdown",
   "metadata": {},
   "source": [
    "##### This uses only Tableau metadata for triggering refreshes by specifying a specific tag (mantained through Tableau)"
   ]
  },
  {
   "cell_type": "code",
   "execution_count": 30,
   "metadata": {},
   "outputs": [],
   "source": [
    "# get all workbooks and their ID => ideally this is an ingestion job\n",
    "# and the workbooks are gonna be saved in a table\n",
    "# here if we use the tag we don't need the project info\n",
    "all_workbooks_items, pagination_item = server.workbooks.get()\n",
    "\n",
    "df_workbooks = pd.DataFrame(\n",
    "    [(i.content_url, i.created_at, i.id, i.name, i.owner_id, i.project_id, i.project_name, i.size, i.show_tabs, i.hidden_views, i.tags, i.updated_at, i.webpage_url) for i in all_workbooks_items],\n",
    "    columns=[\"content_url\", \"created_at\", \"id\", \"name\", \"owner_id\", \"project_id\", \"project_name\", \"size\", \"show_tabs\", \"hidden_views\", \"tags\", \"updated_at\", \"webpage_url\"]\n",
    ")"
   ]
  },
  {
   "cell_type": "code",
   "execution_count": 17,
   "metadata": {},
   "outputs": [
    {
     "data": {
      "text/html": [
       "<div>\n",
       "<style scoped>\n",
       "    .dataframe tbody tr th:only-of-type {\n",
       "        vertical-align: middle;\n",
       "    }\n",
       "\n",
       "    .dataframe tbody tr th {\n",
       "        vertical-align: top;\n",
       "    }\n",
       "\n",
       "    .dataframe thead th {\n",
       "        text-align: right;\n",
       "    }\n",
       "</style>\n",
       "<table border=\"1\" class=\"dataframe\">\n",
       "  <thead>\n",
       "    <tr style=\"text-align: right;\">\n",
       "      <th></th>\n",
       "      <th>content_url</th>\n",
       "      <th>created_at</th>\n",
       "      <th>id</th>\n",
       "      <th>name</th>\n",
       "      <th>owner_id</th>\n",
       "      <th>project_id</th>\n",
       "      <th>project_name</th>\n",
       "      <th>size</th>\n",
       "      <th>show_tabs</th>\n",
       "      <th>hidden_views</th>\n",
       "      <th>tags</th>\n",
       "      <th>updated_at</th>\n",
       "      <th>webpage_url</th>\n",
       "    </tr>\n",
       "  </thead>\n",
       "  <tbody>\n",
       "    <tr>\n",
       "      <th>0</th>\n",
       "      <td>Regional</td>\n",
       "      <td>2022-10-21 07:12:04+00:00</td>\n",
       "      <td>116426e6-11b4-4438-babd-1110d3df3554</td>\n",
       "      <td>Regional</td>\n",
       "      <td>af745434-6e79-4655-bb53-af3a3e427582</td>\n",
       "      <td>fbf35beb-743d-4f44-b508-e461f6906d73</td>\n",
       "      <td>Samples</td>\n",
       "      <td>2</td>\n",
       "      <td>True</td>\n",
       "      <td>None</td>\n",
       "      <td>{}</td>\n",
       "      <td>2022-10-21 07:12:04+00:00</td>\n",
       "      <td>https://dub01.online.tableau.com/#/site/factor...</td>\n",
       "    </tr>\n",
       "    <tr>\n",
       "      <th>1</th>\n",
       "      <td>Superstore</td>\n",
       "      <td>2022-10-21 07:12:09+00:00</td>\n",
       "      <td>54135fc8-60ea-490d-aacf-52c0275c95d8</td>\n",
       "      <td>Superstore</td>\n",
       "      <td>af745434-6e79-4655-bb53-af3a3e427582</td>\n",
       "      <td>fbf35beb-743d-4f44-b508-e461f6906d73</td>\n",
       "      <td>Samples</td>\n",
       "      <td>1</td>\n",
       "      <td>True</td>\n",
       "      <td>None</td>\n",
       "      <td>{}</td>\n",
       "      <td>2022-10-21 07:12:09+00:00</td>\n",
       "      <td>https://dub01.online.tableau.com/#/site/factor...</td>\n",
       "    </tr>\n",
       "    <tr>\n",
       "      <th>2</th>\n",
       "      <td>AdminInsightsStarter</td>\n",
       "      <td>2022-10-23 07:33:13+00:00</td>\n",
       "      <td>aa0bd6e8-6964-4da6-b684-4e85179b8af7</td>\n",
       "      <td>Admin Insights Starter</td>\n",
       "      <td>e2bc92c6-2f4e-40db-9755-8ac94c2bc4f0</td>\n",
       "      <td>baee820c-602a-496c-9753-8fb61007851a</td>\n",
       "      <td>Admin Insights</td>\n",
       "      <td>2</td>\n",
       "      <td>True</td>\n",
       "      <td>None</td>\n",
       "      <td>{}</td>\n",
       "      <td>2023-01-15 08:02:39+00:00</td>\n",
       "      <td>https://dub01.online.tableau.com/#/site/factor...</td>\n",
       "    </tr>\n",
       "    <tr>\n",
       "      <th>3</th>\n",
       "      <td>Snowflakemonitoring</td>\n",
       "      <td>2022-11-01 13:13:04+00:00</td>\n",
       "      <td>5225bbd6-ffdd-49ba-a905-47ac53903c38</td>\n",
       "      <td>Snowflake monitoring</td>\n",
       "      <td>263efb4c-f589-4e11-9020-c11cf5a7b871</td>\n",
       "      <td>fa55702c-b95c-4568-8a40-afe280323bd1</td>\n",
       "      <td>Insight</td>\n",
       "      <td>1</td>\n",
       "      <td>False</td>\n",
       "      <td>None</td>\n",
       "      <td>{}</td>\n",
       "      <td>2023-12-10 09:31:24+00:00</td>\n",
       "      <td>https://dub01.online.tableau.com/#/site/factor...</td>\n",
       "    </tr>\n",
       "    <tr>\n",
       "      <th>4</th>\n",
       "      <td>DowntimeAnalysis</td>\n",
       "      <td>2022-11-15 14:19:31+00:00</td>\n",
       "      <td>1a89cd94-864f-43a5-9448-d5b17ddf290d</td>\n",
       "      <td>Downtime Analysis</td>\n",
       "      <td>c1676c99-b99d-49cd-bc16-ab73fad840f0</td>\n",
       "      <td>fa55702c-b95c-4568-8a40-afe280323bd1</td>\n",
       "      <td>Insight</td>\n",
       "      <td>2</td>\n",
       "      <td>False</td>\n",
       "      <td>None</td>\n",
       "      <td>{}</td>\n",
       "      <td>2023-02-28 07:34:47+00:00</td>\n",
       "      <td>https://dub01.online.tableau.com/#/site/factor...</td>\n",
       "    </tr>\n",
       "  </tbody>\n",
       "</table>\n",
       "</div>"
      ],
      "text/plain": [
       "            content_url                created_at  \\\n",
       "0              Regional 2022-10-21 07:12:04+00:00   \n",
       "1            Superstore 2022-10-21 07:12:09+00:00   \n",
       "2  AdminInsightsStarter 2022-10-23 07:33:13+00:00   \n",
       "3   Snowflakemonitoring 2022-11-01 13:13:04+00:00   \n",
       "4      DowntimeAnalysis 2022-11-15 14:19:31+00:00   \n",
       "\n",
       "                                     id                    name  \\\n",
       "0  116426e6-11b4-4438-babd-1110d3df3554                Regional   \n",
       "1  54135fc8-60ea-490d-aacf-52c0275c95d8              Superstore   \n",
       "2  aa0bd6e8-6964-4da6-b684-4e85179b8af7  Admin Insights Starter   \n",
       "3  5225bbd6-ffdd-49ba-a905-47ac53903c38    Snowflake monitoring   \n",
       "4  1a89cd94-864f-43a5-9448-d5b17ddf290d       Downtime Analysis   \n",
       "\n",
       "                               owner_id                            project_id  \\\n",
       "0  af745434-6e79-4655-bb53-af3a3e427582  fbf35beb-743d-4f44-b508-e461f6906d73   \n",
       "1  af745434-6e79-4655-bb53-af3a3e427582  fbf35beb-743d-4f44-b508-e461f6906d73   \n",
       "2  e2bc92c6-2f4e-40db-9755-8ac94c2bc4f0  baee820c-602a-496c-9753-8fb61007851a   \n",
       "3  263efb4c-f589-4e11-9020-c11cf5a7b871  fa55702c-b95c-4568-8a40-afe280323bd1   \n",
       "4  c1676c99-b99d-49cd-bc16-ab73fad840f0  fa55702c-b95c-4568-8a40-afe280323bd1   \n",
       "\n",
       "     project_name  size  show_tabs hidden_views tags  \\\n",
       "0         Samples     2       True         None   {}   \n",
       "1         Samples     1       True         None   {}   \n",
       "2  Admin Insights     2       True         None   {}   \n",
       "3         Insight     1      False         None   {}   \n",
       "4         Insight     2      False         None   {}   \n",
       "\n",
       "                 updated_at                                        webpage_url  \n",
       "0 2022-10-21 07:12:04+00:00  https://dub01.online.tableau.com/#/site/factor...  \n",
       "1 2022-10-21 07:12:09+00:00  https://dub01.online.tableau.com/#/site/factor...  \n",
       "2 2023-01-15 08:02:39+00:00  https://dub01.online.tableau.com/#/site/factor...  \n",
       "3 2023-12-10 09:31:24+00:00  https://dub01.online.tableau.com/#/site/factor...  \n",
       "4 2023-02-28 07:34:47+00:00  https://dub01.online.tableau.com/#/site/factor...  "
      ]
     },
     "execution_count": 17,
     "metadata": {},
     "output_type": "execute_result"
    }
   ],
   "source": [
    "df_workbooks.head()"
   ]
  },
  {
   "cell_type": "code",
   "execution_count": 35,
   "metadata": {},
   "outputs": [],
   "source": [
    "workbooks_to_refresh = df_workbooks[df_workbooks[\"tags\"].astype(str).str.contains(\"daily\")].id.values"
   ]
  },
  {
   "cell_type": "code",
   "execution_count": 37,
   "metadata": {},
   "outputs": [
    {
     "data": {
      "text/plain": [
       "array(['91908b3a-d905-4189-a73a-0da53456e5d4'], dtype=object)"
      ]
     },
     "execution_count": 37,
     "metadata": {},
     "output_type": "execute_result"
    }
   ],
   "source": [
    "# we expect only one workbook to have a daily refresh\n",
    "workbooks_to_refresh"
   ]
  },
  {
   "cell_type": "code",
   "execution_count": 38,
   "metadata": {},
   "outputs": [
    {
     "name": "stdout",
     "output_type": "stream",
     "text": [
      "refresh for workbook id 91908b3a-d905-4189-a73a-0da53456e5d4 triggered\n"
     ]
    }
   ],
   "source": [
    "# loops through workbooks to refresh and trigger refresh\n",
    "# run only if you want to refresh the specific dashboard\n",
    "for w in workbooks_to_refresh:\n",
    "    workbook = server.workbooks.get_by_id(w)\n",
    "    # call the refresh method with the data source item\n",
    "    refreshed_workbook = server.workbooks.refresh(workbook)\n",
    "    print(f\"refresh for workbook id {w} triggered\")"
   ]
  },
  {
   "cell_type": "code",
   "execution_count": null,
   "metadata": {},
   "outputs": [],
   "source": [
    "# close connections\n",
    "server.auth.sign_out()"
   ]
  }
 ],
 "metadata": {
  "kernelspec": {
   "display_name": "Python 3",
   "language": "python",
   "name": "python3"
  },
  "language_info": {
   "codemirror_mode": {
    "name": "ipython",
    "version": 3
   },
   "file_extension": ".py",
   "mimetype": "text/x-python",
   "name": "python",
   "nbconvert_exporter": "python",
   "pygments_lexer": "ipython3",
   "version": "3.9.13"
  }
 },
 "nbformat": 4,
 "nbformat_minor": 2
}
